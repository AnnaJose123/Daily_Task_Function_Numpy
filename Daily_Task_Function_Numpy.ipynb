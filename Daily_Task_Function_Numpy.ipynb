{
  "nbformat": 4,
  "nbformat_minor": 0,
  "metadata": {
    "colab": {
      "provenance": []
    },
    "kernelspec": {
      "name": "python3",
      "display_name": "Python 3"
    },
    "language_info": {
      "name": "python"
    }
  },
  "cells": [
    {
      "cell_type": "markdown",
      "source": [
        "1"
      ],
      "metadata": {
        "id": "3FHElvPnrwDZ"
      }
    },
    {
      "cell_type": "code",
      "source": [
        "def max(x,y,z):\n",
        "    if x>y and x>z:\n",
        "        print(f'Maximum value is {x}')\n",
        "    elif y>x and y>z:\n",
        "        print(f'Maximum value is {y}')\n",
        "    else:\n",
        "        print(f'Maximum value is {z}')\n",
        "x=int(input(\"Enter first number : \"))\n",
        "y=int(input(\"Enter second number : \"))\n",
        "z=int(input(\"Enter third number : \"))\n",
        "max(x,y,z)"
      ],
      "metadata": {
        "colab": {
          "base_uri": "https://localhost:8080/"
        },
        "id": "d57Cj4EvrtAI",
        "outputId": "4cba86af-b07c-40af-fc8c-a3c9750eed3a"
      },
      "execution_count": 2,
      "outputs": [
        {
          "output_type": "stream",
          "name": "stdout",
          "text": [
            "Enter first number : 15\n",
            "Enter second number : 17\n",
            "Enter third number : 13\n",
            "Maximum value is 17\n"
          ]
        }
      ]
    },
    {
      "cell_type": "markdown",
      "source": [
        "2\n"
      ],
      "metadata": {
        "id": "4CAEPwtBsgSD"
      }
    },
    {
      "cell_type": "code",
      "source": [
        "def AoC(r):\n",
        "    Area_of_Circle=3.14*r**2\n",
        "    print(f'Area of a circle : {Area_of_Circle}')\n",
        "r=float(input(\"Radius : \"))\n",
        "AoC(r)"
      ],
      "metadata": {
        "colab": {
          "base_uri": "https://localhost:8080/"
        },
        "id": "knMB7qKGslrs",
        "outputId": "af847c5a-9a77-4c99-bcee-36c38200ebc6"
      },
      "execution_count": 3,
      "outputs": [
        {
          "output_type": "stream",
          "name": "stdout",
          "text": [
            "Radius : 5\n",
            "Area of a circle : 78.5\n"
          ]
        }
      ]
    },
    {
      "cell_type": "markdown",
      "source": [
        "3\n",
        "\n"
      ],
      "metadata": {
        "id": "e34AItwbslXZ"
      }
    },
    {
      "cell_type": "code",
      "source": [
        "def PrimeNo(n):\n",
        "    for i in range(2,n):\n",
        "        if n%i==0:\n",
        "            return False\n",
        "    else:\n",
        "        return True\n",
        "n=int(input(\"Enter the number : \"))\n",
        "PrimeNo(n)"
      ],
      "metadata": {
        "colab": {
          "base_uri": "https://localhost:8080/"
        },
        "id": "N7_rwPsbtDb9",
        "outputId": "955b6055-3279-4362-8741-0ab7e4b877df"
      },
      "execution_count": 4,
      "outputs": [
        {
          "name": "stdout",
          "output_type": "stream",
          "text": [
            "Enter the number : 13\n"
          ]
        },
        {
          "output_type": "execute_result",
          "data": {
            "text/plain": [
              "True"
            ]
          },
          "metadata": {},
          "execution_count": 4
        }
      ]
    },
    {
      "cell_type": "markdown",
      "source": [
        "4"
      ],
      "metadata": {
        "id": "VsvDmP5HtgQ4"
      }
    },
    {
      "cell_type": "code",
      "source": [
        "def Palindrome(string):\n",
        "    if string==string[::-1]:\n",
        "        return True\n",
        "    else:\n",
        "        return False\n",
        "string=input(\"Enter a string : \")\n",
        "Palindrome(string)"
      ],
      "metadata": {
        "colab": {
          "base_uri": "https://localhost:8080/"
        },
        "id": "JbVH5-fTtkg6",
        "outputId": "f192241e-90ce-49c9-ebfc-7083a4a04faa"
      },
      "execution_count": 5,
      "outputs": [
        {
          "name": "stdout",
          "output_type": "stream",
          "text": [
            "Enter a string : malayalam\n"
          ]
        },
        {
          "output_type": "execute_result",
          "data": {
            "text/plain": [
              "True"
            ]
          },
          "metadata": {},
          "execution_count": 5
        }
      ]
    },
    {
      "cell_type": "markdown",
      "source": [
        "5"
      ],
      "metadata": {
        "id": "BdjzyT_Wtg8a"
      }
    },
    {
      "cell_type": "code",
      "source": [
        "def S(list1):\n",
        "    sum=0\n",
        "    for i in list_1:\n",
        "        sum+=i\n",
        "    return sum\n",
        "list_1=[5,10,15,20,25]\n",
        "print(list_1)\n",
        "S(list_1)"
      ],
      "metadata": {
        "colab": {
          "base_uri": "https://localhost:8080/"
        },
        "id": "dZtSvbnOtvvH",
        "outputId": "e63eea5b-62f1-4552-b81e-64c6cfd3cccc"
      },
      "execution_count": 6,
      "outputs": [
        {
          "output_type": "stream",
          "name": "stdout",
          "text": [
            "[5, 10, 15, 20, 25]\n"
          ]
        },
        {
          "output_type": "execute_result",
          "data": {
            "text/plain": [
              "75"
            ]
          },
          "metadata": {},
          "execution_count": 6
        }
      ]
    },
    {
      "cell_type": "markdown",
      "source": [
        "6"
      ],
      "metadata": {
        "id": "jjuChRn5uPkk"
      }
    },
    {
      "cell_type": "code",
      "source": [
        "def avg(list_01):\n",
        "    sum=0\n",
        "    for i in list_01:\n",
        "        sum+=i\n",
        "    avg=sum/len(list_01)\n",
        "    return avg\n",
        "list_01=[2,4,6,8,10]\n",
        "avg(list_01)"
      ],
      "metadata": {
        "colab": {
          "base_uri": "https://localhost:8080/"
        },
        "id": "Q3Mh3c5YuQQP",
        "outputId": "da399c9d-b9b1-49f2-f452-3ddfa54e4f0f"
      },
      "execution_count": 8,
      "outputs": [
        {
          "output_type": "execute_result",
          "data": {
            "text/plain": [
              "6.0"
            ]
          },
          "metadata": {},
          "execution_count": 8
        }
      ]
    },
    {
      "cell_type": "markdown",
      "source": [
        "7"
      ],
      "metadata": {
        "id": "wwWNKMLJupjB"
      }
    },
    {
      "cell_type": "code",
      "source": [
        "def kth_largest(list2,k):\n",
        "    list2.sort(reverse=True)\n",
        "    print(f'{k}th largest element : {list2[k-1]}' )\n",
        "list2=[4,3,5,9,11,2]\n",
        "k=3\n",
        "print(list2)\n",
        "kth_largest(list2,k)"
      ],
      "metadata": {
        "colab": {
          "base_uri": "https://localhost:8080/"
        },
        "id": "Qz_UJecruo61",
        "outputId": "7f13222a-48c4-42c9-a4cc-335056df0b25"
      },
      "execution_count": 9,
      "outputs": [
        {
          "output_type": "stream",
          "name": "stdout",
          "text": [
            "[4, 3, 5, 9, 11, 2]\n",
            "3th largest element : 5\n"
          ]
        }
      ]
    },
    {
      "cell_type": "markdown",
      "source": [
        "8"
      ],
      "metadata": {
        "id": "s2iKkzo6vfyp"
      }
    },
    {
      "cell_type": "code",
      "source": [
        "def SoD(n):\n",
        "    if n<10:\n",
        "        return n\n",
        "    else:\n",
        "        return n%10 + SoD(n//10)\n",
        "n=4320820\n",
        "SoD(n)"
      ],
      "metadata": {
        "colab": {
          "base_uri": "https://localhost:8080/"
        },
        "id": "aACyR_gmvglX",
        "outputId": "ffd1214c-761f-41df-98d8-55620dff9e58"
      },
      "execution_count": 10,
      "outputs": [
        {
          "output_type": "execute_result",
          "data": {
            "text/plain": [
              "19"
            ]
          },
          "metadata": {},
          "execution_count": 10
        }
      ]
    },
    {
      "cell_type": "markdown",
      "source": [
        "9"
      ],
      "metadata": {
        "id": "LVxOd2HFwLoL"
      }
    },
    {
      "cell_type": "code",
      "source": [
        "def Expo(b,e):\n",
        "    if e==0:\n",
        "        return 1\n",
        "    else:\n",
        "        for i in range(e):\n",
        "            return b*Expo(b,e-1)\n",
        "b=int(input(\"Enter base value : \"))\n",
        "e=int(input(\"Enter exponent value : \"))\n",
        "Power=Expo(b,e)\n",
        "print(f'Power of the number : {Power}')"
      ],
      "metadata": {
        "colab": {
          "base_uri": "https://localhost:8080/"
        },
        "id": "uq-8FKnrwMMJ",
        "outputId": "0bb46a20-53d7-4dd4-875e-2ed1f5933775"
      },
      "execution_count": 11,
      "outputs": [
        {
          "output_type": "stream",
          "name": "stdout",
          "text": [
            "Enter base value : 2\n",
            "Enter exponent value : 4\n",
            "Power of the number : 16\n"
          ]
        }
      ]
    },
    {
      "cell_type": "markdown",
      "source": [
        "10"
      ],
      "metadata": {
        "id": "sjK30OyMwyiA"
      }
    },
    {
      "cell_type": "code",
      "source": [
        "def gcd(a,b):\n",
        "    while b!=0:\n",
        "        a,b=b,a%b\n",
        "    return a\n",
        "a=int(input(\"Enter the first number : \"))\n",
        "b=int(input(\"Enter the second number : \"))\n",
        "print(f\"Greatest common divisor of {a} and {b} : {gcd(a,b)}\")"
      ],
      "metadata": {
        "colab": {
          "base_uri": "https://localhost:8080/"
        },
        "id": "UDTF-A3Mw0ln",
        "outputId": "3c84564d-49f9-485e-dd5d-84e1be261f06"
      },
      "execution_count": 12,
      "outputs": [
        {
          "output_type": "stream",
          "name": "stdout",
          "text": [
            "Enter the first number : 10\n",
            "Enter the second number : 15\n",
            "Greatest common divisor of 10 and 15 : 5\n"
          ]
        }
      ]
    },
    {
      "cell_type": "markdown",
      "source": [
        "11"
      ],
      "metadata": {
        "id": "ds38iGCfxOOA"
      }
    },
    {
      "cell_type": "code",
      "source": [
        "import numpy as np\n",
        "a1=np.arange(10)\n",
        "a1"
      ],
      "metadata": {
        "colab": {
          "base_uri": "https://localhost:8080/"
        },
        "id": "7QtmzXo6xQWP",
        "outputId": "200f8481-5349-4a03-866f-e00833729975"
      },
      "execution_count": 13,
      "outputs": [
        {
          "output_type": "execute_result",
          "data": {
            "text/plain": [
              "array([0, 1, 2, 3, 4, 5, 6, 7, 8, 9])"
            ]
          },
          "metadata": {},
          "execution_count": 13
        }
      ]
    },
    {
      "cell_type": "markdown",
      "source": [
        "12"
      ],
      "metadata": {
        "id": "96I41W5wxXNd"
      }
    },
    {
      "cell_type": "code",
      "source": [
        "a2=np.arange(1,10)\n",
        "a2=a2.reshape(3,3)\n",
        "a2"
      ],
      "metadata": {
        "colab": {
          "base_uri": "https://localhost:8080/"
        },
        "id": "nFxwMpsLxYcG",
        "outputId": "d862c831-a99c-4822-8abf-01f8c3690e83"
      },
      "execution_count": 14,
      "outputs": [
        {
          "output_type": "execute_result",
          "data": {
            "text/plain": [
              "array([[1, 2, 3],\n",
              "       [4, 5, 6],\n",
              "       [7, 8, 9]])"
            ]
          },
          "metadata": {},
          "execution_count": 14
        }
      ]
    },
    {
      "cell_type": "markdown",
      "source": [
        "13"
      ],
      "metadata": {
        "id": "OUFVOAIaxjn4"
      }
    },
    {
      "cell_type": "code",
      "source": [
        "a3=np.eye(3)\n",
        "a3"
      ],
      "metadata": {
        "colab": {
          "base_uri": "https://localhost:8080/"
        },
        "id": "Od51ClvNxmKJ",
        "outputId": "079002d9-0ee3-428b-9670-f4cdab55e113"
      },
      "execution_count": 15,
      "outputs": [
        {
          "output_type": "execute_result",
          "data": {
            "text/plain": [
              "array([[1., 0., 0.],\n",
              "       [0., 1., 0.],\n",
              "       [0., 0., 1.]])"
            ]
          },
          "metadata": {},
          "execution_count": 15
        }
      ]
    },
    {
      "cell_type": "markdown",
      "source": [
        "14"
      ],
      "metadata": {
        "id": "Qy5CSkkoxrZU"
      }
    },
    {
      "cell_type": "code",
      "source": [
        "a4=np.random.randint(10,101,10)\n",
        "print(a4)\n",
        "print(f\"mean : {a4.mean()}\")\n",
        "print(f\"standard deviation : {a4.std()}\")"
      ],
      "metadata": {
        "colab": {
          "base_uri": "https://localhost:8080/"
        },
        "id": "w2706I4RxqzV",
        "outputId": "29bf8612-e59c-484c-fc7d-5cf8236e5e61"
      },
      "execution_count": 16,
      "outputs": [
        {
          "output_type": "stream",
          "name": "stdout",
          "text": [
            "[21 75 52 34 77 71 90 30 99 79]\n",
            "mean : 62.8\n",
            "standard deviation : 25.494313091354318\n"
          ]
        }
      ]
    },
    {
      "cell_type": "markdown",
      "source": [
        "15"
      ],
      "metadata": {
        "id": "zz12-ULMx1nO"
      }
    },
    {
      "cell_type": "code",
      "source": [
        "a5=np.arange(10,21)\n",
        "a5"
      ],
      "metadata": {
        "colab": {
          "base_uri": "https://localhost:8080/"
        },
        "id": "WvW09cPZx1TD",
        "outputId": "58505644-3dd2-478b-9928-b150cb4f25ee"
      },
      "execution_count": 17,
      "outputs": [
        {
          "output_type": "execute_result",
          "data": {
            "text/plain": [
              "array([10, 11, 12, 13, 14, 15, 16, 17, 18, 19, 20])"
            ]
          },
          "metadata": {},
          "execution_count": 17
        }
      ]
    },
    {
      "cell_type": "code",
      "source": [
        "a5[:5]"
      ],
      "metadata": {
        "colab": {
          "base_uri": "https://localhost:8080/"
        },
        "id": "Dv96Om1kyCon",
        "outputId": "9b2af912-542f-43d6-8a71-a8cf6db38d58"
      },
      "execution_count": 18,
      "outputs": [
        {
          "output_type": "execute_result",
          "data": {
            "text/plain": [
              "array([10, 11, 12, 13, 14])"
            ]
          },
          "metadata": {},
          "execution_count": 18
        }
      ]
    },
    {
      "cell_type": "markdown",
      "source": [
        "16"
      ],
      "metadata": {
        "id": "oxz-Oe_tx9Qz"
      }
    },
    {
      "cell_type": "code",
      "source": [
        "a6=np.arange(2,33,2)\n",
        "a6=a6.reshape(4,4)\n",
        "a6"
      ],
      "metadata": {
        "colab": {
          "base_uri": "https://localhost:8080/"
        },
        "id": "PmC4TmiCx8-L",
        "outputId": "7d181c21-5391-45ac-de71-7cc760b19133"
      },
      "execution_count": 19,
      "outputs": [
        {
          "output_type": "execute_result",
          "data": {
            "text/plain": [
              "array([[ 2,  4,  6,  8],\n",
              "       [10, 12, 14, 16],\n",
              "       [18, 20, 22, 24],\n",
              "       [26, 28, 30, 32]])"
            ]
          },
          "metadata": {},
          "execution_count": 19
        }
      ]
    },
    {
      "cell_type": "code",
      "source": [
        "a6[1]"
      ],
      "metadata": {
        "colab": {
          "base_uri": "https://localhost:8080/"
        },
        "id": "WoS7winYymka",
        "outputId": "945bffb8-1bd7-47a5-de7c-0a59d7999f0a"
      },
      "execution_count": 20,
      "outputs": [
        {
          "output_type": "execute_result",
          "data": {
            "text/plain": [
              "array([10, 12, 14, 16])"
            ]
          },
          "metadata": {},
          "execution_count": 20
        }
      ]
    },
    {
      "cell_type": "markdown",
      "source": [
        "17"
      ],
      "metadata": {
        "id": "0RgCLeVuyNFw"
      }
    },
    {
      "cell_type": "code",
      "source": [
        "a7=np.arange(1,6)\n",
        "a7\n"
      ],
      "metadata": {
        "colab": {
          "base_uri": "https://localhost:8080/"
        },
        "id": "sVvIvYnbyM3c",
        "outputId": "e5eb2b32-b2c3-45bd-b908-8090c57a29c4"
      },
      "execution_count": 21,
      "outputs": [
        {
          "output_type": "execute_result",
          "data": {
            "text/plain": [
              "array([1, 2, 3, 4, 5])"
            ]
          },
          "metadata": {},
          "execution_count": 21
        }
      ]
    },
    {
      "cell_type": "code",
      "source": [
        "a8=np.arange(6,11)\n",
        "a8"
      ],
      "metadata": {
        "colab": {
          "base_uri": "https://localhost:8080/"
        },
        "id": "P-NTa8X3yxdC",
        "outputId": "e26fb4ba-84c3-4b6b-abdd-04776dc2cabe"
      },
      "execution_count": 22,
      "outputs": [
        {
          "output_type": "execute_result",
          "data": {
            "text/plain": [
              "array([ 6,  7,  8,  9, 10])"
            ]
          },
          "metadata": {},
          "execution_count": 22
        }
      ]
    },
    {
      "cell_type": "code",
      "source": [
        "a9=a7+a8\n",
        "a9"
      ],
      "metadata": {
        "colab": {
          "base_uri": "https://localhost:8080/"
        },
        "id": "q5c1sjSsy6Dk",
        "outputId": "0eaa0f10-b22c-4bb2-f782-3171ebef770d"
      },
      "execution_count": 23,
      "outputs": [
        {
          "output_type": "execute_result",
          "data": {
            "text/plain": [
              "array([ 7,  9, 11, 13, 15])"
            ]
          },
          "metadata": {},
          "execution_count": 23
        }
      ]
    },
    {
      "cell_type": "markdown",
      "source": [
        "18"
      ],
      "metadata": {
        "id": "wir1AU3yytfo"
      }
    },
    {
      "cell_type": "code",
      "source": [
        "a10=np.random.rand(10)\n",
        "a10"
      ],
      "metadata": {
        "colab": {
          "base_uri": "https://localhost:8080/"
        },
        "id": "SFGnXz1oytSg",
        "outputId": "d1ba76ed-dcf5-4d1d-a070-8f0f0edd9813"
      },
      "execution_count": 24,
      "outputs": [
        {
          "output_type": "execute_result",
          "data": {
            "text/plain": [
              "array([0.9434262 , 0.59646343, 0.17068345, 0.85389808, 0.04033661,\n",
              "       0.47798915, 0.55417634, 0.2976077 , 0.5036187 , 0.48708816])"
            ]
          },
          "metadata": {},
          "execution_count": 24
        }
      ]
    },
    {
      "cell_type": "code",
      "source": [
        "a10[a10<0.5]=0\n",
        "a10\n"
      ],
      "metadata": {
        "colab": {
          "base_uri": "https://localhost:8080/"
        },
        "id": "MSzKAqQrzLpi",
        "outputId": "e4987730-784a-4a06-b457-f81333a42383"
      },
      "execution_count": 25,
      "outputs": [
        {
          "output_type": "execute_result",
          "data": {
            "text/plain": [
              "array([0.9434262 , 0.59646343, 0.        , 0.85389808, 0.        ,\n",
              "       0.        , 0.55417634, 0.        , 0.5036187 , 0.        ])"
            ]
          },
          "metadata": {},
          "execution_count": 25
        }
      ]
    }
  ]
}